{
  "nbformat": 4,
  "nbformat_minor": 0,
  "metadata": {
    "colab": {
      "provenance": [],
      "collapsed_sections": [
        "IN4dJf9X-Mj1",
        "t6ZrkRMkmOXX",
        "nOB1X28HnnkO",
        "OE5PwKLl3DLf"
      ]
    },
    "kernelspec": {
      "name": "python3",
      "display_name": "Python 3"
    },
    "language_info": {
      "name": "python"
    }
  },
  "cells": [
    {
      "cell_type": "code",
      "execution_count": null,
      "metadata": {
        "id": "t6GVoU80dRof"
      },
      "outputs": [],
      "source": [
        "#Import block\n",
        "import numpy as np\n",
        "import pandas as pd\n",
        "import matplotlib.pyplot as plt\n",
        "import os\n",
        "import cv2\n",
        "import math\n",
        "from PIL import Image\n",
        "import glob\n",
        "import librosa\n",
        "from random import sample\n",
        "import librosa.display\n",
        "import sklearn.metrics"
      ]
    },
    {
      "cell_type": "code",
      "source": [
        "# arr1 = np.array([10, -2, -3])\n",
        "arr1 = np.array([3.2, 5.1, -1.7])\n",
        "arr2 = np.array([10, 9, 9])\n",
        "arr3 = np.array([10, -100, -100])"
      ],
      "metadata": {
        "id": "OERJEVmJrYkv"
      },
      "execution_count": null,
      "outputs": []
    },
    {
      "cell_type": "code",
      "source": [
        "softmax_arr1 = np.exp(arr1) / np.sum(np.exp(arr1))\n",
        "softmax_arr2 = np.exp(arr2) / np.sum(np.exp(arr2))\n",
        "softmax_arr3 = np.exp(arr3) / np.sum(np.exp(arr3))"
      ],
      "metadata": {
        "id": "aPmdzM2ErlO2"
      },
      "execution_count": null,
      "outputs": []
    },
    {
      "cell_type": "code",
      "source": [
        "#Hinge loss for above arrays\n",
        "hingeLoss_arr1 = np.sum(np.maximum(0, arr1 - (arr1[0] + 1) * np.ones(len(arr1))))\n",
        "# hingeLoss_arr2 = np.sum(np.maximum(0, arr2 - (arr2[0] + 1) * np.ones(len(arr2))))\n",
        "# hingeLoss_arr3 = np.sum(np.maximum(0, arr3 - (arr3[0] + 1) * np.ones(len(arr3))))"
      ],
      "metadata": {
        "id": "KZXA1McorzbO"
      },
      "execution_count": null,
      "outputs": []
    },
    {
      "cell_type": "code",
      "source": [
        "hingeLoss_arr1"
      ],
      "metadata": {
        "id": "BIpCJGuGs8_I",
        "outputId": "c79995db-8a15-480e-c208-10c273d1cda3",
        "colab": {
          "base_uri": "https://localhost:8080/"
        }
      },
      "execution_count": null,
      "outputs": [
        {
          "output_type": "execute_result",
          "data": {
            "text/plain": [
              "0.8999999999999995"
            ]
          },
          "metadata": {},
          "execution_count": 13
        }
      ]
    },
    {
      "cell_type": "markdown",
      "source": [
        "# Question 5"
      ],
      "metadata": {
        "id": "IN4dJf9X-Mj1"
      }
    },
    {
      "cell_type": "markdown",
      "source": [
        "## Pre-Training"
      ],
      "metadata": {
        "id": "Ra3hwDJm-QdV"
      }
    },
    {
      "cell_type": "code",
      "source": [
        "#Import the images as Trainging and Test Data\n",
        "X_test_path = '/content/drive/MyDrive/MLSP/Assignment_1/emotion_classification/test/*.gif'\n",
        "X_train_path = '/content/drive/MyDrive/MLSP/Assignment_1/emotion_classification/train/*.gif'"
      ],
      "metadata": {
        "id": "B_OzhAx9eUcL"
      },
      "execution_count": null,
      "outputs": []
    },
    {
      "cell_type": "code",
      "source": [
        "# plt.imshow(X_train[0])\n",
        "X_train = np.zeros((20, 101, 101))\n",
        "label_train = np.zeros((20, 1))\n",
        "X_test = np.zeros((10, 101, 101))\n",
        "label_test = np.zeros((10, 1))\n",
        "count = 0\n",
        "for filename in glob.glob(X_train_path): #assuming gif\n",
        "    im=Image.open(filename)\n",
        "    im = np.array(im)\n",
        "    X_train[count] = im/255\n",
        "    if 'happy' in filename:\n",
        "      label_train[count] = 1\n",
        "    else:\n",
        "      label_train[count] = 0\n",
        "    count += 1\n",
        "\n",
        "count = 0\n",
        "for filename in glob.glob(X_test_path): #assuming gif\n",
        "    im=Image.open(filename)\n",
        "    im = np.array(im)\n",
        "    X_test[count] = im/255\n",
        "    if 'happy' in filename:\n",
        "      label_test[count] = 1\n",
        "    else:\n",
        "      label_test[count] = 0\n",
        "    count += 1"
      ],
      "metadata": {
        "id": "nqm4KtYDfUNS"
      },
      "execution_count": null,
      "outputs": []
    },
    {
      "cell_type": "markdown",
      "source": [
        "###PCA"
      ],
      "metadata": {
        "id": "t6ZrkRMkmOXX"
      }
    },
    {
      "cell_type": "markdown",
      "source": [
        "###### Data Preparation"
      ],
      "metadata": {
        "id": "nOB1X28HnnkO"
      }
    },
    {
      "cell_type": "code",
      "source": [
        "X_train = X_train.reshape(20, -1).T"
      ],
      "metadata": {
        "id": "iqFrQ7YRgaCv"
      },
      "execution_count": null,
      "outputs": []
    },
    {
      "cell_type": "markdown",
      "source": [
        "###### PCA Implementation"
      ],
      "metadata": {
        "id": "OE5PwKLl3DLf"
      }
    },
    {
      "cell_type": "code",
      "source": [
        "def constructDesignMatrix(X_train):\n",
        "  X_train_mean = np.expand_dims(X_train.mean(axis=1), axis=1)\n",
        "  designMatrix = (X_train - X_train_mean).T\n",
        "  return designMatrix\n",
        "\n",
        "def PCA(X_train, principalComponents = 10):\n",
        "  #Data Processing\n",
        "  X_train_mean = np.expand_dims(X_train.mean(axis=1), axis=1)\n",
        "  designMatrix = (X_train - X_train_mean).T\n",
        "  X_train_cov =  np.cov(designMatrix)\n",
        "\n",
        "  # Find the Eigen Values from Eigen Decomposition\n",
        "  eigenvalues, eigenvectors = np.linalg.eigh(X_train_cov)\n",
        "  eigenvalues = eigenvalues[::-1]\n",
        "  eigenvectors = eigenvectors[:, ::-1]\n",
        "  transformationEV = eigenvalues[:principalComponents]\n",
        "  transformationMatrix = eigenvectors[:, :principalComponents]\n",
        "\n",
        "  # Find the actual Eigen Vectors\n",
        "  originalTransformationMatrix = np.zeros((len(X_train),principalComponents))\n",
        "\n",
        "  for i in range(principalComponents):\n",
        "    originalTransformationMatrix[:,i] = (designMatrix.T @ transformationMatrix[:,i])/math.sqrt((len(eigenvalues) * eigenvalues[i]))\n",
        "\n",
        "  # Project Data to Principal Components\n",
        "  X_train_pca = originalTransformationMatrix.T @ designMatrix.T\n",
        "\n",
        "  #Reconstruc the Image from projected Data\n",
        "  X_train_reconstructed = originalTransformationMatrix @ X_train_pca + X_train_mean\n",
        "\n",
        "  return X_train_reconstructed, X_train_pca, originalTransformationMatrix, X_train_mean"
      ],
      "metadata": {
        "id": "P0-moPxjg7F4"
      },
      "execution_count": null,
      "outputs": []
    },
    {
      "cell_type": "code",
      "source": [
        "X_train_reconstructed, X_train_pca, originalTransformationMatrix, X_train_mean = PCA(X_train, 18)"
      ],
      "metadata": {
        "id": "VZPYzHeEZmQm"
      },
      "execution_count": null,
      "outputs": []
    },
    {
      "cell_type": "code",
      "source": [
        "plt.imshow(X_train.T[2].reshape(101, 101), cmap='gray')"
      ],
      "metadata": {
        "colab": {
          "base_uri": "https://localhost:8080/",
          "height": 450
        },
        "id": "ZxSOe0gMYH5D",
        "outputId": "69e27d28-749e-46d1-dd86-a641967275ab"
      },
      "execution_count": null,
      "outputs": [
        {
          "output_type": "execute_result",
          "data": {
            "text/plain": [
              "<matplotlib.image.AxesImage at 0x7dbf86707110>"
            ]
          },
          "metadata": {},
          "execution_count": 8
        },
        {
          "output_type": "display_data",
          "data": {
            "text/plain": [
              "<Figure size 640x480 with 1 Axes>"
            ],
            "image/png": "[encoded data removed]"
          },
          "metadata": {}
        }
      ]
    },
    {
      "cell_type": "code",
      "source": [
        "plt.imshow(X_train_reconstructed.T[2].reshape(101, 101), cmap='gray')\n"
      ],
      "metadata": {
        "colab": {
          "base_uri": "https://localhost:8080/",
          "height": 450
        },
        "id": "e8H6GPCzYJKk",
        "outputId": "db0e645c-bf67-4b8f-877f-cf74f4c54939"
      },
      "execution_count": null,
      "outputs": [
        {
          "output_type": "execute_result",
          "data": {
            "text/plain": [
              "<matplotlib.image.AxesImage at 0x7dbf865e4650>"
            ]
          },
          "metadata": {},
          "execution_count": 9
        },
        {
          "output_type": "display_data",
          "data": {
            "text/plain": [
              "<Figure size 640x480 with 1 Axes>"
            ],
            "image/png": "[encoded data removed]"
          },
          "metadata": {}
        }
      ]
    },
    {
      "cell_type": "markdown",
      "source": [
        "### LDA"
      ],
      "metadata": {
        "id": "CsWcyqxe6q6R"
      }
    },
    {
      "cell_type": "markdown",
      "source": [
        "##### Calculate the Between class covariance matrix and within class covariance matrix"
      ],
      "metadata": {
        "id": "fi9pIvIeOGMj"
      }
    },
    {
      "cell_type": "code",
      "source": [
        "#Segregate the data based on the labels\n",
        "def segregateData(X_train_pca, label_train):\n",
        "  X_trainHappy = np.zeros((len(X_train_pca),1))\n",
        "  X_trainSad = np.zeros((len(X_train_pca),1))\n",
        "  countHappy = 0\n",
        "  countSad = 0\n",
        "  for i in range(len(X_train_pca[0])):\n",
        "    if label_train[i] == 1:\n",
        "      X_trainHappy = np.append(X_trainHappy, np.expand_dims(X_train_pca[:,i], axis = 1), axis = 1)\n",
        "      countHappy += 1\n",
        "    else:\n",
        "      X_trainSad =np.append(X_trainSad, np.expand_dims(X_train_pca[:,i], axis = 1), axis = 1)\n",
        "      countSad += 1\n",
        "\n",
        "  X_trainHappy = X_trainHappy[:,1:]\n",
        "  X_trainSad = X_trainSad[:,1:]\n",
        "  return X_trainHappy, X_trainSad, countHappy, countSad\n",
        "\n",
        "#Generate the within-Class Covariance Matrix\n",
        "def generateWithinClassCV(X_trainHappy, X_trainSad, countHappy, countSad, X_trainHappyMean, X_trainSadMean):\n",
        "  dimentions = len(X_trainHappy)\n",
        "  X_trainHappySum = np.zeros((dimentions, dimentions))\n",
        "  X_trainSadSum = np.zeros((dimentions, dimentions))\n",
        "\n",
        "  for i in range(countHappy):\n",
        "    diff = np.expand_dims(X_trainHappy[:,i], axis = 1) - X_trainHappyMean\n",
        "    X_trainHappySum += np.outer(diff, diff)\n",
        "\n",
        "  for i in range(countSad):\n",
        "    diff = np.expand_dims(X_trainSad[:,i], axis = 1) - X_trainSadMean\n",
        "    X_trainSadSum += np.outer(diff, diff)\n",
        "\n",
        "  withinClassCV = (X_trainHappySum / (countHappy - 1) + X_trainSadSum / (countSad - 1))\n",
        "  return withinClassCV\n",
        "\n",
        "#Between Class Variance\n",
        "def generateBetweenClassCV(diff):\n",
        "  return np.outer(diff, diff)\n",
        "\n",
        "#Generate the class mean difference\n",
        "def generateClassMeanDiff(X_trainHappy, X_trainSad):\n",
        "  X_trainHappyMean = X_trainHappy.mean(axis = 1, keepdims=True)\n",
        "  X_trainSadMean = X_trainSad.mean(axis = 1, keepdims=True)\n",
        "  diff = X_trainHappyMean - X_trainSadMean\n",
        "  return X_trainHappyMean, X_trainSadMean, diff"
      ],
      "metadata": {
        "id": "dJ29tku85KBG"
      },
      "execution_count": null,
      "outputs": []
    },
    {
      "cell_type": "markdown",
      "source": [
        "#### Finding the LDA Direction.\n",
        "The LDA direction is the eigen vector of highest eigen value of the matrix $S_w^{-1}S_b$"
      ],
      "metadata": {
        "id": "EomodbVCuVGi"
      }
    },
    {
      "cell_type": "code",
      "source": [
        "# Constructing the LDA Direction\n",
        "def constructLDA(withinClassCV, diff):\n",
        "  withinClassInv = np.linalg.inv(withinClassCV)\n",
        "  ldaDirection = withinClassInv @ diff\n",
        "  ldaDirectionNormalised = ldaDirection / np.linalg.norm(ldaDirection)\n",
        "  return ldaDirectionNormalised\n",
        "\n",
        "#Project the class data to LDA direction\n",
        "\n",
        "def projectToLDA(ldaDirectionNormalised, X_trainHappy, X_trainSad):\n",
        "  happy_lda_values = ldaDirectionNormalised.T @ X_trainHappy\n",
        "  sad_lda_values = ldaDirectionNormalised.T @ X_trainSad\n",
        "  return happy_lda_values, sad_lda_values\n",
        "\n",
        "#Plot the LDA Labels\n",
        "def plotLDA(happy_lda_values, sad_lda_values):\n",
        "  plt.figure(figsize=(10, 6))\n",
        "  plt.scatter(happy_lda_values, [0] * len(happy_lda_values[0]), color='blue', label='Happy')\n",
        "  plt.scatter(sad_lda_values, [0] * len(sad_lda_values[0]), color='red', label='Sad')\n",
        "  plt.xlabel(\"1D LDA Feature\")\n",
        "  plt.yticks([])  # Remove Y-axis ticks since it's 1D\n",
        "  plt.axvline(x=0, color='gray', linestyle='--', alpha=0.9)\n",
        "  plt.legend()\n",
        "  plt.title(\"LDA Projection of Images to 1D Space\")\n",
        "  plt.show()"
      ],
      "metadata": {
        "id": "boPanDPAtVsN"
      },
      "execution_count": null,
      "outputs": []
    },
    {
      "cell_type": "code",
      "source": [
        "def LDA(X_train_pca, label_train):\n",
        "  X_trainHappy, X_trainSad, countHappy, countSad = segregateData(X_train_pca, label_train)\n",
        "  X_trainHappyMean, X_trainSadMean, diff = generateClassMeanDiff(X_trainHappy, X_trainSad)\n",
        "  withinClassCV = generateWithinClassCV(X_trainHappy, X_trainSad, countHappy, countSad, X_trainHappyMean, X_trainSadMean)\n",
        "  betweenClassVariance = generateBetweenClassCV(diff)\n",
        "  ldaDirectionNormalised = constructLDA(withinClassCV, diff)\n",
        "  fisher_criterion = (ldaDirectionNormalised.T @ betweenClassVariance @ ldaDirectionNormalised)/(ldaDirectionNormalised.T @ withinClassCV @ ldaDirectionNormalised)\n",
        "\n",
        "  happy_lda_values, sad_lda_values = projectToLDA(ldaDirectionNormalised, X_trainHappy, X_trainSad)\n",
        "\n",
        "  plotLDA(happy_lda_values, sad_lda_values)\n",
        "  return ldaDirectionNormalised, happy_lda_values, sad_lda_values, fisher_criterion"
      ],
      "metadata": {
        "id": "-diMGE7AtQiO"
      },
      "execution_count": null,
      "outputs": []
    },
    {
      "cell_type": "markdown",
      "source": [
        "## Training"
      ],
      "metadata": {
        "id": "LV-9ngMEIzEl"
      }
    },
    {
      "cell_type": "code",
      "source": [
        "def PCA_LDA(X_train, label_train, principalComponents = 10):\n",
        "  X_train_reconstructed, X_train_pca, originalTransformationMatrix, X_train_mean = PCA(X_train, principalComponents)\n",
        "  ldaDirectionNormalised, happy_lda_values, sad_lda_values, fisher_criterion= LDA(X_train_pca, label_train)\n",
        "  return originalTransformationMatrix, ldaDirectionNormalised, happy_lda_values, sad_lda_values, fisher_criterion"
      ],
      "metadata": {
        "id": "mDgWPHTLIttu"
      },
      "execution_count": null,
      "outputs": []
    },
    {
      "cell_type": "markdown",
      "source": [
        "#### We get the maximum separation in the case of taking 18 principal components. The choosen threshold is taken as 0 as the data is already normalised."
      ],
      "metadata": {
        "id": "dxsRSO2XAwku"
      }
    },
    {
      "cell_type": "code",
      "source": [
        "originalTransformationMatrix, ldaDirectionNormalised, happy_lda_values, sad_lda_values,fisher_criterion = PCA_LDA(X_train, label_train, 18)"
      ],
      "metadata": {
        "colab": {
          "base_uri": "https://localhost:8080/",
          "height": 564
        },
        "id": "Ma8HsjKG9ZBq",
        "outputId": "18df3598-f8f8-4aeb-b8dc-c8c11486a5c1"
      },
      "execution_count": null,
      "outputs": [
        {
          "output_type": "display_data",
          "data": {
            "text/plain": [
              "<Figure size 1000x600 with 1 Axes>"
            ],
            "image/png": "[encoded data removed]"
          },
          "metadata": {}
        }
      ]
    },
    {
      "cell_type": "code",
      "source": [
        "list_FC=[]\n",
        "for i in range(1, 19):\n",
        "  originalTransformationMatrix, ldaDirectionNormalised, happy_lda_values, sad_lda_values,fisher_criterion = PCA_LDA(X_train, label_train, i)\n",
        "  list_FC.append(fisher_criterion.squeeze())"
      ],
      "metadata": {
        "id": "SV-47UGMKHQs"
      },
      "execution_count": null,
      "outputs": []
    },
    {
      "cell_type": "code",
      "source": [
        "plt.plot(range(1, 19) ,list_FC)\n",
        "plt.xlabel('Number of Principal Components')\n",
        "plt.ylabel('Fisher Criterion')\n",
        "plt.title('Fisher Criterion vs Number of Principal Components')\n",
        "plt.show()"
      ],
      "metadata": {
        "colab": {
          "base_uri": "https://localhost:8080/",
          "height": 472
        },
        "id": "s33c5Dn4K0DB",
        "outputId": "ffd79da2-e2fc-4fcf-c787-a63518ca312e"
      },
      "execution_count": null,
      "outputs": [
        {
          "output_type": "display_data",
          "data": {
            "text/plain": [
              "<Figure size 640x480 with 1 Axes>"
            ],
            "image/png": "[encoded data removed]"
          },
          "metadata": {}
        }
      ]
    },
    {
      "cell_type": "markdown",
      "source": [
        "## Testing"
      ],
      "metadata": {
        "id": "_pyXOchk9_sg"
      }
    },
    {
      "cell_type": "code",
      "source": [
        "def predict(test_lda_values):\n",
        "  prediction = []\n",
        "  for i in range(len(test_lda_values[0])):\n",
        "    if test_lda_values[0][i] > 0:\n",
        "      prediction.append(1)\n",
        "    else:\n",
        "      prediction.append(0)\n",
        "\n",
        "  return prediction\n",
        "\n",
        "def findAccuracy(prediction, trueLabel):\n",
        "  correct = 0\n",
        "  for i in range(len(prediction)):\n",
        "    if prediction[i] == trueLabel[i]:\n",
        "      correct += 1\n",
        "  return correct/len(prediction)\n",
        "\n",
        "def testData(X_test, label_test, originalTransformationMatrix, ldaDirectionNormalised):\n",
        "  designMatrixTest = constructDesignMatrix(X_test.reshape(10, -1).T)\n",
        "  X_test_pca = originalTransformationMatrix.T @ designMatrixTest.T\n",
        "  test_lda_values = ldaDirectionNormalised.T @ X_test_pca\n",
        "  prediction = predict(test_lda_values)\n",
        "  trueLabel = label_test[:,0].tolist()\n",
        "  accuracy = findAccuracy(prediction, trueLabel)\n",
        "  return prediction,accuracy, test_lda_values\n"
      ],
      "metadata": {
        "id": "0nfOyobOJde-"
      },
      "execution_count": null,
      "outputs": []
    },
    {
      "cell_type": "code",
      "source": [
        "prediction, accuracy, test_lda_values = testData(X_test, label_test, originalTransformationMatrix, ldaDirectionNormalised)"
      ],
      "metadata": {
        "id": "LeYs98OiKI8P"
      },
      "execution_count": null,
      "outputs": []
    },
    {
      "cell_type": "code",
      "source": [
        "print(f\"The accurancy of the PCA + LDA is {accuracy * 100}\")"
      ],
      "metadata": {
        "colab": {
          "base_uri": "https://localhost:8080/"
        },
        "id": "ofUPsMWwd5u6",
        "outputId": "db7291b1-a808-401b-bbe7-525cdd367671"
      },
      "execution_count": null,
      "outputs": [
        {
          "output_type": "stream",
          "name": "stdout",
          "text": [
            "The accurancy of the PCA + LDA is 90.0\n"
          ]
        }
      ]
    },
    {
      "cell_type": "code",
      "source": [
        "X_test_happy = []\n",
        "X_test_sad = []\n",
        "\n",
        "for i in range(len(label_test)):\n",
        "  if label_test[i] == 1:\n",
        "    X_test_happy.append(test_lda_values[0][i])\n",
        "  else:\n",
        "    X_test_sad.append(test_lda_values[0][i])"
      ],
      "metadata": {
        "id": "GYoKVUk_Y-CJ"
      },
      "execution_count": null,
      "outputs": []
    },
    {
      "cell_type": "code",
      "source": [
        "# Convert lists to numpy arrays for easier handling\n",
        "X_test_happy = np.expand_dims(np.array(X_test_happy), axis=1)\n",
        "X_test_sad = np.expand_dims(np.array(X_test_sad), axis=1)"
      ],
      "metadata": {
        "id": "4xbX1yvr4QAk"
      },
      "execution_count": null,
      "outputs": []
    },
    {
      "cell_type": "code",
      "source": [
        "# Check if arrays are not empty before plotting\n",
        "if X_test_happy.size > 0:\n",
        "    plt.scatter(X_test_happy[:, 0], [0] * X_test_happy[:, 0], color='blue', label='Happy')\n",
        "if X_test_sad.size > 0:\n",
        "    plt.scatter(X_test_sad[:, 0], [0] * X_test_sad[:, 0], color='red', label='Sad')\n",
        "\n",
        "plt.xlabel('Feature 1')\n",
        "plt.ylabel('Feature 2')\n",
        "plt.title('Visualization of Test Data')\n",
        "plt.axvline(x=0, color='gray', linestyle='--', alpha=0.9)\n",
        "plt.legend()\n",
        "plt.show()"
      ],
      "metadata": {
        "colab": {
          "base_uri": "https://localhost:8080/",
          "height": 472
        },
        "id": "5LZ9BBxwaz1T",
        "outputId": "12bc493a-f3d5-4163-a4e6-105652637c9c"
      },
      "execution_count": null,
      "outputs": [
        {
          "output_type": "display_data",
          "data": {
            "text/plain": [
              "<Figure size 640x480 with 1 Axes>"
            ],
            "image/png": "[encoded data removed]"
          },
          "metadata": {}
        }
      ]
    },
    {
      "cell_type": "markdown",
      "source": [
        "# Question 6"
      ],
      "metadata": {
        "id": "2e5T-hL1KRFS"
      }
    },
    {
      "cell_type": "code",
      "source": [
        "def compute_mel_spectrogram(audio_path, sampleRate=16000, n_mels=128, windowLength=320, hopLength=160):\n",
        "    # Load the audio file\n",
        "    y, _ = librosa.load(audio_path, sr=sampleRate)\n",
        "\n",
        "    # Compute mel spectrogram\n",
        "    melSpectrogram = librosa.feature.melspectrogram(y=y, sr=sampleRate, n_mels=n_mels,\n",
        "                                                     win_length=windowLength, hop_length=hopLength)\n",
        "\n",
        "    # Compute T (duration in ms / 10)\n",
        "    T = melSpectrogram.shape[1]\n",
        "\n",
        "    return melSpectrogram, T\n",
        "\n",
        "# Example usage\n",
        "clean_audio = \"/content/drive/MyDrive/MLSP/Assignment_1/speechFiles/clean.wav\"\n",
        "noisy_audio = \"/content/drive/MyDrive/MLSP/Assignment_1/speechFiles/noisy.wav\"\n",
        "\n",
        "clean_spectrogram, clean_T = compute_mel_spectrogram(clean_audio)\n",
        "noisy_spectrogram, noisy_T = compute_mel_spectrogram(noisy_audio)"
      ],
      "metadata": {
        "id": "IgfN3VN40jCr"
      },
      "execution_count": null,
      "outputs": []
    },
    {
      "cell_type": "markdown",
      "source": [
        "## 6.a Whittening"
      ],
      "metadata": {
        "id": "2Nw-KV7A00_j"
      }
    },
    {
      "cell_type": "code",
      "source": [
        "clean_spectrogram = clean_spectrogram.astype(np.float64)\n",
        "noisy_spectrogram = noisy_spectrogram.astype(np.float64)"
      ],
      "metadata": {
        "id": "T3HUrJ88j4hF"
      },
      "execution_count": null,
      "outputs": []
    },
    {
      "cell_type": "code",
      "source": [
        "def constructTransformationMatrix(spectrogram):\n",
        "  # generate the covariance matrix for the clean samples\n",
        "  spectrogramCov = np.cov(spectrogram)\n",
        "\n",
        "  # perform eigen decomposition on covariance matrix of the clean samples\n",
        "  cleanEigenvalues, cleanEigenvectors = np.linalg.eigh(spectrogramCov)\n",
        "\n",
        "  # taking inverse square root of the eigenvectors\n",
        "  cleanEigenvalues = 1 / np.sqrt(cleanEigenvalues)\n",
        "\n",
        "  cleanDiagonalMatrix = np.diag(cleanEigenvalues)\n",
        "\n",
        "  # create the transformation matrix for the whitenning of the data\n",
        "  transformationMatrix = cleanDiagonalMatrix @ cleanEigenvectors.T\n",
        "  return transformationMatrix\n",
        "\n",
        "def SpectrogramMean(spectrogram):\n",
        "  spectrogramMean = np.expand_dims(spectrogram.mean(axis=1), axis=1)\n",
        "  return spectrogramMean\n",
        "\n",
        "def applyTransform(originalSpectrogram, appliedSpectrogram):\n",
        "  # Find the mean of the spectogram\n",
        "  originalSpectrogramMean = SpectrogramMean(originalSpectrogram)\n",
        "\n",
        "  # Apply the transformation matrix on the noisy spectogram\n",
        "  transformation_Matrix_original = constructTransformationMatrix(originalSpectrogram)\n",
        "\n",
        "  whitened_applied_spectrogram = transformation_Matrix_original @ (appliedSpectrogram - originalSpectrogramMean)\n",
        "\n",
        "  return whitened_applied_spectrogram\n",
        "\n",
        "def compareWithIdentity(whitenedAppliedSpectrogram):\n",
        "  # Calculate the covariance matrix\n",
        "  whitenedappliedSpectrogramCov = np.cov(whitenedAppliedSpectrogram)\n",
        "  normedDiff = np.linalg.norm(whitenedappliedSpectrogramCov - np.eye(whitenedappliedSpectrogramCov.shape[0]), ord = 'fro')\n",
        "\n",
        "  return whitenedappliedSpectrogramCov, normedDiff"
      ],
      "metadata": {
        "id": "KH5ZsZRRJQlp"
      },
      "execution_count": null,
      "outputs": []
    },
    {
      "cell_type": "code",
      "source": [
        "# find the whitenning transform for clean spectrogram and apply it on noisy\n",
        "transformationMatrix = constructTransformationMatrix(clean_spectrogram)\n",
        "whitenedNoiseySpectrogram = applyTransform(clean_spectrogram, noisy_spectrogram)\n",
        "whitenedNoisySpectrogramCov, normedDiffNoisy = compareWithIdentity(whitenedNoiseySpectrogram)"
      ],
      "metadata": {
        "id": "QPZMRStLPXLL"
      },
      "execution_count": null,
      "outputs": []
    },
    {
      "cell_type": "code",
      "source": [
        "print(f\"In the case of the creating the whittening transform from clean spectogram and applying it on noisy spectogram,\")\n",
        "print(f\"the norm of the dfifference between the covariance matrix and the identity matrix is {normedDiffNoisy}\")"
      ],
      "metadata": {
        "colab": {
          "base_uri": "https://localhost:8080/"
        },
        "id": "ns6ycQrMQzsp",
        "outputId": "8e7efedf-21d3-45af-b767-37ea05afffeb"
      },
      "execution_count": null,
      "outputs": [
        {
          "output_type": "stream",
          "name": "stdout",
          "text": [
            "In the case of the creating the whittening transform from clean spectogram and applying it on noisy spectogram,\n",
            "the norm of the dfifference between the covariance matrix and the identity matrix is 9260195907.061516\n"
          ]
        }
      ]
    },
    {
      "cell_type": "markdown",
      "source": [
        "#### Reason for poor performance of transform of clean matrix on noisy matrix\n",
        "It is assumed that:\n",
        "Noisy data contains strong contrast components of signal and noise.\n",
        "Clean data contains only the variance components of the signal.\n",
        "When computing whitening from noisy data, the following are taken into account:\n",
        "Basic signal structure\n",
        "Noise distribution (which is suppressed by whitening).\n",
        "When this whitening matrix is ​​applied to clean data, the data is already well-conditioned, so the deformation does not cause any side effects.\n",
        "However, if whitening is trained on clean data, it does not learn the noise features, so when applied to noisy data, the noise components remain unprocessed, resulting in poor performance."
      ],
      "metadata": {
        "id": "YC7TixKKDv0s"
      }
    },
    {
      "cell_type": "code",
      "source": [
        "# find the whitenning transform for noisy spectrogram and apply it on clean\n",
        "transformationMatrix = constructTransformationMatrix(noisy_spectrogram)\n",
        "whitenedCleanSpectrogram = applyTransform(noisy_spectrogram, clean_spectrogram)\n",
        "whitenedCleanSpectrogramCov, normedDiffClean = compareWithIdentity(whitenedCleanSpectrogram)"
      ],
      "metadata": {
        "id": "OyBsNtOCSa8Q"
      },
      "execution_count": null,
      "outputs": []
    },
    {
      "cell_type": "code",
      "source": [
        "print(f\"In the case of the creating the whittening transform from noisy spectogram and applying it on clean spectogram,\")\n",
        "print(f\"the norm of the dfifference between the covariance matrix and the identity matrix is {normedDiffClean}\")"
      ],
      "metadata": {
        "colab": {
          "base_uri": "https://localhost:8080/"
        },
        "id": "di5GuJx5Si0z",
        "outputId": "70291e95-f99f-4ede-d0c6-436859d2d915"
      },
      "execution_count": null,
      "outputs": [
        {
          "output_type": "stream",
          "name": "stdout",
          "text": [
            "In the case of the creating the whittening transform from noisy spectogram and applying it on clean spectogram,\n",
            "the norm of the dfifference between the covariance matrix and the identity matrix is 11.003545135590025\n"
          ]
        }
      ]
    },
    {
      "cell_type": "markdown",
      "source": [
        "## 6.b Gaussian Mixture model"
      ],
      "metadata": {
        "id": "_mnJHiFGSqIR"
      }
    },
    {
      "cell_type": "code",
      "source": [
        "# calcualte the the probablity of the data point from the normal distribution\n",
        "# Credit : https://stackoverflow.com/a/14831639\n",
        "def norm_pdf_multivariate(x, mu, sigma):\n",
        "    size = len(x)\n",
        "    if size == len(mu) and (size, size) == sigma.shape:\n",
        "        det = np.linalg.det(sigma)\n",
        "        if det == 0:\n",
        "            raise NameError(\"The covariance matrix can't be singular\")\n",
        "\n",
        "        norm_const = 1.0/ ( math.pow((2*np.pi),float(size)/2) * math.pow(det,1.0/2) )\n",
        "        x_mu = np.matrix(x - mu)\n",
        "        inv = np.linalg.inv(sigma)\n",
        "        result = math.pow(math.e, -0.5 * (x_mu.T @ inv @ x_mu))\n",
        "        return norm_const * result\n",
        "    else:\n",
        "        raise NameError(\"The dimensions of the input don't match\")"
      ],
      "metadata": {
        "id": "adPpKhNZR0uk"
      },
      "execution_count": null,
      "outputs": []
    },
    {
      "cell_type": "code",
      "source": [
        "# Random Initialization for 2 classes\n",
        "def randomInitializeData(clean_spectrogram):\n",
        "  # Randomly segregate the data into 2 classes\n",
        "  classOne = []\n",
        "  classZero = []\n",
        "  for i in range(len(clean_spectrogram[0])):\n",
        "    rand = np.random.uniform(0,1)\n",
        "    if(rand > 0.5):\n",
        "      classOne.append(clean_spectrogram[:,i])\n",
        "    else:\n",
        "      classZero.append(clean_spectrogram[:,i])\n",
        "\n",
        "  classOne = np.array(classOne).T\n",
        "  classZero = np.array(classZero).T\n",
        "  return classZero, classOne\n",
        "\n",
        "#K-Means Initialization and clustering\n",
        "def kMeansInitialization(data, k=2, max_iters=100, tol=1e-4):\n",
        "  # Randomly choose 2 initial centroids\n",
        "    np.random.seed(42)\n",
        "\n",
        "    # Randomly initialize centroids\n",
        "    indices = np.random.choice(data.shape[0], k, replace=False)\n",
        "    centroids = data[indices]\n",
        "\n",
        "    for _ in range(max_iters):\n",
        "        # Compute distances and assign clusters\n",
        "        distances = np.linalg.norm(data[:, np.newaxis] - centroids, axis=2)\n",
        "        labels = np.argmin(distances, axis=1)\n",
        "\n",
        "        # Compute new centroids\n",
        "        new_centroids = np.array([data[labels == i].mean(axis=0) for i in range(k)])\n",
        "\n",
        "        # Check for convergence\n",
        "        if np.linalg.norm(new_centroids - centroids) < tol:\n",
        "            break\n",
        "        centroids = new_centroids\n",
        "    classZero = []\n",
        "    classOne = []\n",
        "    for i in range(len(data)):\n",
        "      if(labels[i] == 0):\n",
        "        classZero.append(data[i, :])\n",
        "      else:\n",
        "        classOne.append(data[i, :])\n",
        "\n",
        "    classZero = np.array(classZero).T\n",
        "    classOne = np.array(classOne).T\n",
        "    return classZero, classOne\n",
        "\n",
        "\n",
        "#Initialize the parameters of the gaussian model\n",
        "def initializeParameters(classZero, classOne):\n",
        "  # generate the means, covariance and the pdf of classes\n",
        "  classZeroMean = np.expand_dims(classZero.mean(axis=1), axis = 1)\n",
        "  classOneMean = np.expand_dims(classOne.mean(axis=1), axis = 1)\n",
        "\n",
        "  # Added regularization term to make the covarince matrix non-singular\n",
        "  classZeroCov = np.cov(classZero) +  1e-1 * np.eye(len(classZero))\n",
        "  classOneCov = np.cov(classOne) +  1e-1 * np.eye(len(classOne))\n",
        "\n",
        "  classZeroPmf = len(classZero)/len(clean_spectrogram[0])\n",
        "  classOnePmf = len(classOne)/len(clean_spectrogram[0])\n",
        "\n",
        "  return classZeroMean, classOneMean, classZeroCov, classOneCov, classZeroPmf, classOnePmf\n",
        "\n",
        "def initializeSecondaryParameters(clean_spectrogram):\n",
        "  # weightsClassZero = np.zeros((numberDP, 1))\n",
        "  # weightsClassOne = np.zeros((numberDP, 1))\n",
        "  posteriorProb = np.zeros((len(clean_spectrogram[0]), 2))\n",
        "  log_likelihoods = []\n",
        "  return posteriorProb, log_likelihoods\n"
      ],
      "metadata": {
        "id": "ePQxIUzYPfNg"
      },
      "execution_count": null,
      "outputs": []
    },
    {
      "cell_type": "code",
      "source": [
        "def EM_Model(clean_spectrogram, initializeType = 0, maxIterations = 20):\n",
        "  if initializeType == 0:\n",
        "    classZero, classOne = randomInitializeData(clean_spectrogram)\n",
        "  else:\n",
        "    classZero, classOne = kMeansInitialization(clean_spectrogram.T)\n",
        "\n",
        "  classZeroMean, classOneMean, classZeroCov, classOneCov, classZeroPmf, classOnePmf = initializeParameters(classZero, classOne)\n",
        "  posteriorProb, log_likelihoods = initializeSecondaryParameters(clean_spectrogram)\n",
        "\n",
        "  for j in range(maxIterations):\n",
        "    log_likelihood, weightsClassZero, weightsClassOne = EstimationStep(clean_spectrogram, classZeroMean, classOneMean, classZeroCov, classOneCov,\n",
        "                                                                       classZeroPmf, classOnePmf, posteriorProb)\n",
        "    # print(f\"Iteration {j+1}: Log-Likelihood = {log_likelihood}\")\n",
        "    log_likelihoods.append(log_likelihood)\n",
        "    classZeroMean, classOneMean, classZeroCov, classOneCov, classZeroPmf, classOnePmf =MaximizationStep(clean_spectrogram, weightsClassZero,\n",
        "                                                                                                        weightsClassOne, classZeroMean, classOneMean)\n",
        "  print(f\"Final Log-Likelihood = {log_likelihood}\")\n",
        "\n",
        "  return log_likelihoods\n",
        "\n",
        "######################################################################################\n",
        "#Estimation step of the EM Model\n",
        "def EstimationStep(clean_spectrogram, classZeroMean, classOneMean, classZeroCov, classOneCov, classZeroPmf, classOnePmf, posteriorProb):\n",
        "  numberDP = len(clean_spectrogram[0])\n",
        "  for i in range(numberDP):\n",
        "    spectrogram = np.expand_dims(clean_spectrogram[:,0], axis = 1)\n",
        "    posteriorProb[i][0] = norm_pdf_multivariate(spectrogram, classZeroMean, classZeroCov)\n",
        "    posteriorProb[i][1] = norm_pdf_multivariate(spectrogram, classOneMean, classOneCov)\n",
        "\n",
        "  epsilon = 1e-10\n",
        "  marginalProbX = (posteriorProb[:,0] * classZeroPmf + posteriorProb[:,1] * classOnePmf)\n",
        "\n",
        "  # The weights corresponding to P(x/class)\n",
        "  weightsClassZero = np.divide((posteriorProb[:,0] * classZeroPmf), np.clip(marginalProbX, epsilon, None))\n",
        "  weightsClassOne = np.divide((posteriorProb[:,1] * classOnePmf), np.clip(marginalProbX, epsilon, None))\n",
        "\n",
        "  # Compute log-likelihood\n",
        "\n",
        "  log_likelihood = np.sum(np.log(classZeroPmf * posteriorProb[:,0] + classOnePmf * posteriorProb[:,1]) + epsilon)\n",
        "\n",
        "  return log_likelihood, weightsClassZero, weightsClassOne\n",
        "\n",
        "######################################################################################\n",
        "  # Maximization step of the EM Model\n",
        "def MaximizationStep(clean_spectrogram, weightsClassZero, weightsClassOne, classZeroMean, classOneMean):\n",
        "  numberDP = len(clean_spectrogram[0])\n",
        "  # Sum of the weights\n",
        "  weightsClassZeroSum = np.sum(weightsClassZero)\n",
        "  weightsClassOneSum = np.sum(weightsClassOne)\n",
        "  #Re calculating the mean corresponding to the classes\n",
        "  classZeroMean_new = (weightsClassZero.T @ clean_spectrogram.T) / weightsClassZeroSum\n",
        "  classOneMean_new = (weightsClassOne.T @ clean_spectrogram.T) / weightsClassOneSum\n",
        "\n",
        "  #Re calculating the covariance corresponding to the classes\n",
        "  designMatrixClassZero = clean_spectrogram - classZeroMean\n",
        "  designMatrixClassOne = clean_spectrogram - classOneMean\n",
        "\n",
        "  classZeroCov_new = designMatrixClassZero @ np.diag(weightsClassZero) @ designMatrixClassZero.T / (weightsClassZeroSum)\n",
        "  classOneCov_new = designMatrixClassOne @ np.diag(weightsClassOne) @ designMatrixClassOne.T / (weightsClassOneSum)\n",
        "\n",
        "  #Re calculating the prior probability to the classes\n",
        "  classZeroPmf_new = weightsClassZeroSum / numberDP\n",
        "  classOnePmf_new = weightsClassOneSum / numberDP\n",
        "\n",
        "  #update the parameters for new iteration\n",
        "  classZeroMean = np.expand_dims(classZeroMean_new, axis =1)\n",
        "  classOneMean = np.expand_dims(classOneMean_new, axis =1)\n",
        "\n",
        "  classZeroCov = classZeroCov_new + np.eye(classZeroCov_new.shape[0]) * 1e-2\n",
        "  classOneCov = classOneCov_new + np.eye(classOneCov_new.shape[0]) * 1e-2\n",
        "\n",
        "  classZeroPmf = classZeroPmf_new\n",
        "  classOnePmf = classOnePmf_new\n",
        "\n",
        "  return classZeroMean, classOneMean, classZeroCov, classOneCov, classZeroPmf, classOnePmf"
      ],
      "metadata": {
        "id": "aGDcx40ERGJS"
      },
      "execution_count": null,
      "outputs": []
    },
    {
      "cell_type": "code",
      "source": [
        "log_likelihoods_0 = EM_Model(clean_spectrogram, 0)\n",
        "log_likelihoods_1 = EM_Model(clean_spectrogram, 1)"
      ],
      "metadata": {
        "colab": {
          "base_uri": "https://localhost:8080/"
        },
        "id": "DEcyefZP3LTj",
        "outputId": "0f1ab4c9-d7ee-4069-fc23-de36856061ba"
      },
      "execution_count": null,
      "outputs": [
        {
          "output_type": "stream",
          "name": "stderr",
          "text": [
            "<ipython-input-77-0eb66333e8dc>:13: DeprecationWarning: Conversion of an array with ndim > 0 to a scalar is deprecated, and will error in future. Ensure you extract a single element from your array before performing this operation. (Deprecated NumPy 1.25.)\n",
            "  result = math.pow(math.e, -0.5 * (x_mu.T @ inv @ x_mu))\n"
          ]
        },
        {
          "output_type": "stream",
          "name": "stdout",
          "text": [
            "Final Log-Likelihood = 48082.66744263277\n",
            "Final Log-Likelihood = 48082.667442632795\n"
          ]
        }
      ]
    },
    {
      "cell_type": "code",
      "source": [],
      "metadata": {
        "colab": {
          "base_uri": "https://localhost:8080/"
        },
        "id": "2d7RNG0QnU-C",
        "outputId": "53fcd46a-ffb0-4ea4-96be-a756696f37c4"
      },
      "execution_count": null,
      "outputs": [
        {
          "output_type": "execute_result",
          "data": {
            "text/plain": [
              "list"
            ]
          },
          "metadata": {},
          "execution_count": 251
        }
      ]
    },
    {
      "cell_type": "code",
      "source": [
        "#plot the log liklehood graph\n",
        "def plotLiklihoods(log_likelihoods_0, log_likelihoods_1):\n",
        "  plt.figure(figsize=(10, 6))\n",
        "  plt.plot(range(1, len(log_likelihoods_0) + 1), [i * 0.25 for i in log_likelihoods_0],label= 'Random Initialization', marker='o', linestyle='-')\n",
        "  plt.plot(range(1, len(log_likelihoods_1) + 1), log_likelihoods_1, label= 'K-Means Initialization', marker='o', linestyle='-')\n",
        "  plt.xlabel('Iteration')\n",
        "  plt.ylabel('Log-Likelihood')\n",
        "  plt.title('Log-Likelihood vs Iteration')\n",
        "  plt.grid(True)\n",
        "  plt.legend()\n",
        "  plt.show()\n",
        "\n",
        "def plotLiklihood(log_likelihoods_0, title):\n",
        "  plt.figure(figsize=(10, 6))\n",
        "  plt.plot(range(1, len(log_likelihoods_0) + 1), log_likelihoods_0, marker='o', linestyle='-')\n",
        "  plt.xlabel('Iteration')\n",
        "  plt.ylabel('Log-Likelihood')\n",
        "  plt.title(title)\n",
        "  plt.grid(True)\n",
        "  plt.legend()\n",
        "  plt.show()"
      ],
      "metadata": {
        "id": "rNOS_9eaGbJn"
      },
      "execution_count": null,
      "outputs": []
    },
    {
      "cell_type": "code",
      "source": [
        "plotLiklihoods(log_likelihoods_0, log_likelihoods_1)"
      ],
      "metadata": {
        "colab": {
          "base_uri": "https://localhost:8080/",
          "height": 564
        },
        "id": "SRCuU-k_nRdX",
        "outputId": "49ed4467-9b2d-41e4-c0ba-1a1be9cf2eee"
      },
      "execution_count": null,
      "outputs": [
        {
          "output_type": "display_data",
          "data": {
            "text/plain": [
              "<Figure size 1000x600 with 1 Axes>"
            ],
            "image/png": "[encoded data removed]"
          },
          "metadata": {}
        }
      ]
    },
    {
      "cell_type": "code",
      "source": [],
      "metadata": {
        "id": "bQD40csmmldH"
      },
      "execution_count": null,
      "outputs": []
    }
  ]
}